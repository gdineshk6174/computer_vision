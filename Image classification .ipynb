{
 "cells": [
  {
   "cell_type": "code",
   "execution_count": 1,
   "metadata": {
    "_cell_guid": "b1076dfc-b9ad-4769-8c92-a6c4dae69d19",
    "_uuid": "8f2839f25d086af736a60e9eeb907d3b93b6e0e5"
   },
   "outputs": [
    {
     "name": "stdout",
     "output_type": "stream",
     "text": [
      "[]\n"
     ]
    }
   ],
   "source": [
    "# This Python 3 environment comes with many helpful analytics libraries installed\n",
    "# It is defined by the kaggle/python docker image: https://github.com/kaggle/docker-python\n",
    "# For example, here's several helpful packages to load in \n",
    "\n",
    "import numpy as np # linear algebra\n",
    "import pandas as pd # data processing, CSV file I/O (e.g. pd.read_csv)\n",
    "\n",
    "# Input data files are available in the \"../input/\" directory.\n",
    "# For example, running this (by clicking run or pressing Shift+Enter) will list the files in the input directory\n",
    "\n",
    "import os\n",
    "print(os.listdir(\"../input\"))\n",
    "\n",
    "# Any results you write to the current directory are saved as output."
   ]
  },
  {
   "cell_type": "code",
   "execution_count": 2,
   "metadata": {
    "_cell_guid": "79c7e3d0-c299-4dcb-8224-4455121ee9b0",
    "_uuid": "d629ff2d2480ee46fbb7e2d37f6b5fab8052498a"
   },
   "outputs": [
    {
     "name": "stdout",
     "output_type": "stream",
     "text": [
      "Requirement already satisfied: keras in /opt/conda/lib/python3.6/site-packages/Keras-2.2.4-py3.6.egg (2.2.4)\n",
      "Requirement already satisfied: numpy>=1.9.1 in /opt/conda/lib/python3.6/site-packages (from keras) (1.15.2)\n",
      "Requirement already satisfied: scipy>=0.14 in /opt/conda/lib/python3.6/site-packages (from keras) (1.1.0)\n",
      "Requirement already satisfied: six>=1.9.0 in /opt/conda/lib/python3.6/site-packages (from keras) (1.11.0)\n",
      "Requirement already satisfied: pyyaml in /opt/conda/lib/python3.6/site-packages (from keras) (3.13)\n",
      "Requirement already satisfied: h5py in /opt/conda/lib/python3.6/site-packages (from keras) (2.8.0)\n",
      "Requirement already satisfied: keras_applications>=1.0.6 in /opt/conda/lib/python3.6/site-packages (from keras) (1.0.6)\n",
      "Requirement already satisfied: keras_preprocessing>=1.0.5 in /opt/conda/lib/python3.6/site-packages (from keras) (1.0.5)\n",
      "\u001b[31mmxnet 1.3.0.post0 has requirement numpy<1.15.0,>=1.8.2, but you'll have numpy 1.15.2 which is incompatible.\u001b[0m\n",
      "\u001b[31mkmeans-smote 0.1.0 has requirement imbalanced-learn<0.4,>=0.3.1, but you'll have imbalanced-learn 0.5.0.dev0 which is incompatible.\u001b[0m\n",
      "\u001b[31mkmeans-smote 0.1.0 has requirement numpy<1.15,>=1.13, but you'll have numpy 1.15.2 which is incompatible.\u001b[0m\n",
      "\u001b[31mfastai 0.7.0 has requirement torch<0.4, but you'll have torch 0.4.1.post2 which is incompatible.\u001b[0m\n",
      "\u001b[31manaconda-client 1.7.2 has requirement python-dateutil>=2.6.1, but you'll have python-dateutil 2.6.0 which is incompatible.\u001b[0m\n",
      "\u001b[31mimbalanced-learn 0.5.0.dev0 has requirement scikit-learn>=0.20, but you'll have scikit-learn 0.19.1 which is incompatible.\u001b[0m\n",
      "\u001b[33mYou are using pip version 10.0.1, however version 18.1 is available.\n",
      "You should consider upgrading via the 'pip install --upgrade pip' command.\u001b[0m\n"
     ]
    }
   ],
   "source": [
    "! pip install keras"
   ]
  },
  {
   "cell_type": "code",
   "execution_count": 3,
   "metadata": {
    "_uuid": "af95843d33e2a89b43e8578bb6732bdc089b8f29"
   },
   "outputs": [
    {
     "name": "stderr",
     "output_type": "stream",
     "text": [
      "Using TensorFlow backend.\n"
     ]
    },
    {
     "name": "stdout",
     "output_type": "stream",
     "text": [
      "Downloading data from https://github.com/fchollet/deep-learning-models/releases/download/v0.1/vgg16_weights_tf_dim_ordering_tf_kernels_notop.h5\n",
      "58892288/58889256 [==============================] - 1s 0us/step\n"
     ]
    }
   ],
   "source": [
    "# importing VGG16 from keras\n",
    "from keras.applications import VGG16\n",
    "\n",
    "#instantiating VGG convolutional base\n",
    "conv_base = VGG16(weights = 'imagenet',\n",
    "                 include_top = False ,\n",
    "                 input_shape = (150,150,3))"
   ]
  },
  {
   "cell_type": "code",
   "execution_count": 4,
   "metadata": {
    "_kg_hide-output": false,
    "_uuid": "fc87abd0a770d86358353ac9c9fc18d77d7b3489",
    "scrolled": true
   },
   "outputs": [
    {
     "name": "stdout",
     "output_type": "stream",
     "text": [
      "_________________________________________________________________\n",
      "Layer (type)                 Output Shape              Param #   \n",
      "=================================================================\n",
      "input_1 (InputLayer)         (None, 150, 150, 3)       0         \n",
      "_________________________________________________________________\n",
      "block1_conv1 (Conv2D)        (None, 150, 150, 64)      1792      \n",
      "_________________________________________________________________\n",
      "block1_conv2 (Conv2D)        (None, 150, 150, 64)      36928     \n",
      "_________________________________________________________________\n",
      "block1_pool (MaxPooling2D)   (None, 75, 75, 64)        0         \n",
      "_________________________________________________________________\n",
      "block2_conv1 (Conv2D)        (None, 75, 75, 128)       73856     \n",
      "_________________________________________________________________\n",
      "block2_conv2 (Conv2D)        (None, 75, 75, 128)       147584    \n",
      "_________________________________________________________________\n",
      "block2_pool (MaxPooling2D)   (None, 37, 37, 128)       0         \n",
      "_________________________________________________________________\n",
      "block3_conv1 (Conv2D)        (None, 37, 37, 256)       295168    \n",
      "_________________________________________________________________\n",
      "block3_conv2 (Conv2D)        (None, 37, 37, 256)       590080    \n",
      "_________________________________________________________________\n",
      "block3_conv3 (Conv2D)        (None, 37, 37, 256)       590080    \n",
      "_________________________________________________________________\n",
      "block3_pool (MaxPooling2D)   (None, 18, 18, 256)       0         \n",
      "_________________________________________________________________\n",
      "block4_conv1 (Conv2D)        (None, 18, 18, 512)       1180160   \n",
      "_________________________________________________________________\n",
      "block4_conv2 (Conv2D)        (None, 18, 18, 512)       2359808   \n",
      "_________________________________________________________________\n",
      "block4_conv3 (Conv2D)        (None, 18, 18, 512)       2359808   \n",
      "_________________________________________________________________\n",
      "block4_pool (MaxPooling2D)   (None, 9, 9, 512)         0         \n",
      "_________________________________________________________________\n",
      "block5_conv1 (Conv2D)        (None, 9, 9, 512)         2359808   \n",
      "_________________________________________________________________\n",
      "block5_conv2 (Conv2D)        (None, 9, 9, 512)         2359808   \n",
      "_________________________________________________________________\n",
      "block5_conv3 (Conv2D)        (None, 9, 9, 512)         2359808   \n",
      "_________________________________________________________________\n",
      "block5_pool (MaxPooling2D)   (None, 4, 4, 512)         0         \n",
      "=================================================================\n",
      "Total params: 14,714,688\n",
      "Trainable params: 14,714,688\n",
      "Non-trainable params: 0\n",
      "_________________________________________________________________\n"
     ]
    }
   ],
   "source": [
    "conv_base.summary()"
   ]
  },
  {
   "cell_type": "code",
   "execution_count": 5,
   "metadata": {
    "_uuid": "7441122abee10c35e15479011e7aa721c3ed92bb"
   },
   "outputs": [
    {
     "name": "stdout",
     "output_type": "stream",
     "text": [
      "--2018-10-21 20:24:54--  https://storage.googleapis.com/mledu-datasets/cats_and_dogs_filtered.zip\n",
      "Resolving storage.googleapis.com (storage.googleapis.com)... 74.125.141.128, 2607:f8b0:400c:c06::80\n",
      "Connecting to storage.googleapis.com (storage.googleapis.com)|74.125.141.128|:443... connected.\n",
      "HTTP request sent, awaiting response... 200 OK\n",
      "Length: 68606236 (65M) [application/zip]\n",
      "Saving to: ‘/tmp/cats_and_dogs_filtered.zip’\n",
      "\n",
      "/tmp/cats_and_dogs_ 100%[=====================>]  65.43M   196MB/s   in 0.3s   \n",
      "\n",
      "2018-10-21 20:24:54 (196 MB/s) - ‘/tmp/cats_and_dogs_filtered.zip’ saved [68606236/68606236]\n",
      "\n"
     ]
    }
   ],
   "source": [
    "\n",
    "!wget --no-check-certificate \\\n",
    "   https://storage.googleapis.com/mledu-datasets/cats_and_dogs_filtered.zip -O \\\n",
    "   /tmp/cats_and_dogs_filtered.zip"
   ]
  },
  {
   "cell_type": "code",
   "execution_count": 6,
   "metadata": {
    "_uuid": "4ddb6b3da86b0b07f6bd15a039c42406332b8a46"
   },
   "outputs": [
    {
     "name": "stdout",
     "output_type": "stream",
     "text": [
      "Found 2000 images belonging to 2 classes.\n",
      "Found 1000 images belonging to 2 classes.\n"
     ]
    }
   ],
   "source": [
    "import zipfile\n",
    "import os\n",
    "from keras.preprocessing.image import ImageDataGenerator\n",
    "\n",
    "local_zip = '/tmp/cats_and_dogs_filtered.zip'\n",
    "zip_ref = zipfile.ZipFile(local_zip,'r')\n",
    "zip_ref.extractall('/tmp')\n",
    "zip_ref.close()\n",
    "\n",
    "# define out directory and files\n",
    "base_dir = '/tmp/cats_and_dogs_filtered'\n",
    "train_dir = os.path.join(base_dir,'train')\n",
    "validation_dir = os.path.join(base_dir,'validation')\n",
    "\n",
    "# data agumentation to avoid over fitting \n",
    "train_datagen = ImageDataGenerator(\n",
    "    rescale = 1./255,\n",
    "    rotation_range = 40,\n",
    "    width_shift_range = 0.2,\n",
    "    height_shift_range = 0.2,\n",
    "    shear_range = 0.2,\n",
    "    zoom_range = 0.2,\n",
    "    horizontal_flip = True)\n",
    "\n",
    "# validation data should not be agumneted\n",
    "test_datagen = ImageDataGenerator(rescale = 1./255)\n",
    "\n",
    "train_generator = train_datagen.flow_from_directory(\n",
    "    train_dir,\n",
    "    target_size = (150,150),\n",
    "    batch_size = 20,\n",
    "    class_mode = 'binary')\n",
    "\n",
    "validation_generator = test_datagen.flow_from_directory(\n",
    "    validation_dir,\n",
    "    target_size = (150,150),\n",
    "    batch_size = 20,\n",
    "    class_mode = 'binary')"
   ]
  },
  {
   "cell_type": "code",
   "execution_count": 7,
   "metadata": {
    "_uuid": "7642aab1748434f9724cf33fceeeec77bda48fe5"
   },
   "outputs": [],
   "source": [
    "\n",
    "# adding densely connected layer on top of convbase of VGG16\n",
    "from keras import models\n",
    "from keras import layers\n",
    "\n",
    "model = models.Sequential()\n",
    "model.add(conv_base)\n",
    "model.add(layers.Flatten())\n",
    "# adding dropout layer to avoid overfitting\n",
    "model.add(layers.Dropout(0.5))\n",
    "model.add(layers.Dense(256, activation='relu'))\n",
    "model.add(layers.Dense(1,activation='sigmoid'))"
   ]
  },
  {
   "cell_type": "code",
   "execution_count": 8,
   "metadata": {
    "_uuid": "c6dcb1a872fbb847e506bfc52e5466d7895bbebd"
   },
   "outputs": [
    {
     "name": "stdout",
     "output_type": "stream",
     "text": [
      "_________________________________________________________________\n",
      "Layer (type)                 Output Shape              Param #   \n",
      "=================================================================\n",
      "vgg16 (Model)                (None, 4, 4, 512)         14714688  \n",
      "_________________________________________________________________\n",
      "flatten_1 (Flatten)          (None, 8192)              0         \n",
      "_________________________________________________________________\n",
      "dropout_1 (Dropout)          (None, 8192)              0         \n",
      "_________________________________________________________________\n",
      "dense_1 (Dense)              (None, 256)               2097408   \n",
      "_________________________________________________________________\n",
      "dense_2 (Dense)              (None, 1)                 257       \n",
      "=================================================================\n",
      "Total params: 16,812,353\n",
      "Trainable params: 16,812,353\n",
      "Non-trainable params: 0\n",
      "_________________________________________________________________\n"
     ]
    }
   ],
   "source": [
    "model.summary()"
   ]
  },
  {
   "cell_type": "code",
   "execution_count": 9,
   "metadata": {
    "_uuid": "89fa426f3ae33290e911755aa2aa08aced948733"
   },
   "outputs": [
    {
     "name": "stdout",
     "output_type": "stream",
     "text": [
      "this is the number of trainable weights before freezing the conv_base 30\n"
     ]
    }
   ],
   "source": [
    "\n",
    "# freezing the conv_base so that it prevents their weights to be updated\n",
    "print ('this is the number of trainable weights before freezing the conv_base',len(model.trainable_weights))"
   ]
  },
  {
   "cell_type": "code",
   "execution_count": 10,
   "metadata": {
    "_uuid": "79894e8002555e53d749b569cf9c31613ca581e9"
   },
   "outputs": [],
   "source": [
    "\n",
    "# freezing\n",
    "conv_base.trainable = False"
   ]
  },
  {
   "cell_type": "code",
   "execution_count": 11,
   "metadata": {
    "_uuid": "9e5ac88ac68c35fd4a18d59933c0e43e38573d61"
   },
   "outputs": [
    {
     "name": "stdout",
     "output_type": "stream",
     "text": [
      "this is the number of trainable weights after freezing the conv_base 4\n"
     ]
    }
   ],
   "source": [
    "print ('this is the number of trainable weights after freezing the conv_base',len(model.trainable_weights))"
   ]
  },
  {
   "cell_type": "code",
   "execution_count": 12,
   "metadata": {
    "_uuid": "5cae6332ddb635e0faec4a4733204ec3273f2d18"
   },
   "outputs": [
    {
     "name": "stdout",
     "output_type": "stream",
     "text": [
      "Epoch 1/100\n",
      "100/100 [==============================] - 29s 294ms/step - loss: 0.6892 - acc: 0.5660 - val_loss: 0.5192 - val_acc: 0.7840\n",
      "Epoch 2/100\n",
      "100/100 [==============================] - 25s 255ms/step - loss: 0.5776 - acc: 0.7020 - val_loss: 0.4310 - val_acc: 0.8210\n",
      "Epoch 3/100\n",
      "100/100 [==============================] - 25s 254ms/step - loss: 0.5218 - acc: 0.7485 - val_loss: 0.3913 - val_acc: 0.8280\n",
      "Epoch 4/100\n",
      "100/100 [==============================] - 25s 255ms/step - loss: 0.4869 - acc: 0.7700 - val_loss: 0.3521 - val_acc: 0.8500\n",
      "Epoch 5/100\n",
      "100/100 [==============================] - 26s 255ms/step - loss: 0.4636 - acc: 0.7755 - val_loss: 0.3435 - val_acc: 0.8440\n",
      "Epoch 6/100\n",
      "100/100 [==============================] - 25s 255ms/step - loss: 0.4469 - acc: 0.8000 - val_loss: 0.3227 - val_acc: 0.8610\n",
      "Epoch 7/100\n",
      "100/100 [==============================] - 25s 255ms/step - loss: 0.4203 - acc: 0.8100 - val_loss: 0.3158 - val_acc: 0.8650\n",
      "Epoch 8/100\n",
      "100/100 [==============================] - 25s 255ms/step - loss: 0.4148 - acc: 0.8175 - val_loss: 0.3225 - val_acc: 0.8450\n",
      "Epoch 9/100\n",
      "100/100 [==============================] - 25s 254ms/step - loss: 0.4010 - acc: 0.8170 - val_loss: 0.3021 - val_acc: 0.8640\n",
      "Epoch 10/100\n",
      "100/100 [==============================] - 26s 256ms/step - loss: 0.3935 - acc: 0.8150 - val_loss: 0.2969 - val_acc: 0.8690\n",
      "Epoch 11/100\n",
      "100/100 [==============================] - 26s 256ms/step - loss: 0.3917 - acc: 0.8270 - val_loss: 0.2921 - val_acc: 0.8700\n",
      "Epoch 12/100\n",
      "100/100 [==============================] - 26s 255ms/step - loss: 0.3942 - acc: 0.8190 - val_loss: 0.2862 - val_acc: 0.8730\n",
      "Epoch 13/100\n",
      "100/100 [==============================] - 26s 256ms/step - loss: 0.3811 - acc: 0.8295 - val_loss: 0.2825 - val_acc: 0.8680\n",
      "Epoch 14/100\n",
      "100/100 [==============================] - 26s 255ms/step - loss: 0.3707 - acc: 0.8300 - val_loss: 0.2809 - val_acc: 0.8760\n",
      "Epoch 15/100\n",
      "100/100 [==============================] - 25s 255ms/step - loss: 0.3698 - acc: 0.8270 - val_loss: 0.2886 - val_acc: 0.8750\n",
      "Epoch 16/100\n",
      "100/100 [==============================] - 25s 254ms/step - loss: 0.3761 - acc: 0.8290 - val_loss: 0.2815 - val_acc: 0.8750\n",
      "Epoch 17/100\n",
      "100/100 [==============================] - 26s 256ms/step - loss: 0.3615 - acc: 0.8350 - val_loss: 0.2833 - val_acc: 0.8680\n",
      "Epoch 18/100\n",
      "100/100 [==============================] - 26s 255ms/step - loss: 0.3426 - acc: 0.8395 - val_loss: 0.2774 - val_acc: 0.8760\n",
      "Epoch 19/100\n",
      "100/100 [==============================] - 25s 255ms/step - loss: 0.3617 - acc: 0.8265 - val_loss: 0.2735 - val_acc: 0.8740\n",
      "Epoch 20/100\n",
      "100/100 [==============================] - 26s 255ms/step - loss: 0.3495 - acc: 0.8445 - val_loss: 0.2766 - val_acc: 0.8750\n",
      "Epoch 21/100\n",
      "100/100 [==============================] - 26s 255ms/step - loss: 0.3477 - acc: 0.8440 - val_loss: 0.2721 - val_acc: 0.8800\n",
      "Epoch 22/100\n",
      "100/100 [==============================] - 26s 256ms/step - loss: 0.3491 - acc: 0.8490 - val_loss: 0.2695 - val_acc: 0.8790\n",
      "Epoch 23/100\n",
      "100/100 [==============================] - 26s 255ms/step - loss: 0.3526 - acc: 0.8425 - val_loss: 0.2671 - val_acc: 0.8810\n",
      "Epoch 24/100\n",
      "100/100 [==============================] - 25s 255ms/step - loss: 0.3531 - acc: 0.8415 - val_loss: 0.2688 - val_acc: 0.8770\n",
      "Epoch 25/100\n",
      "100/100 [==============================] - 25s 255ms/step - loss: 0.3599 - acc: 0.8255 - val_loss: 0.2672 - val_acc: 0.8810\n",
      "Epoch 26/100\n",
      "100/100 [==============================] - 25s 254ms/step - loss: 0.3559 - acc: 0.8415 - val_loss: 0.2729 - val_acc: 0.8760\n",
      "Epoch 27/100\n",
      "100/100 [==============================] - 26s 256ms/step - loss: 0.3495 - acc: 0.8385 - val_loss: 0.2775 - val_acc: 0.8850\n",
      "Epoch 28/100\n",
      "100/100 [==============================] - 26s 256ms/step - loss: 0.3433 - acc: 0.8530 - val_loss: 0.2774 - val_acc: 0.8740\n",
      "Epoch 29/100\n",
      "100/100 [==============================] - 26s 256ms/step - loss: 0.3379 - acc: 0.8440 - val_loss: 0.2674 - val_acc: 0.8840\n",
      "Epoch 30/100\n",
      "100/100 [==============================] - 26s 255ms/step - loss: 0.3437 - acc: 0.8485 - val_loss: 0.2681 - val_acc: 0.8760\n",
      "Epoch 31/100\n",
      "100/100 [==============================] - 26s 255ms/step - loss: 0.3357 - acc: 0.8505 - val_loss: 0.2637 - val_acc: 0.8860\n",
      "Epoch 32/100\n",
      "100/100 [==============================] - 26s 256ms/step - loss: 0.3255 - acc: 0.8625 - val_loss: 0.2687 - val_acc: 0.8870\n",
      "Epoch 33/100\n",
      "100/100 [==============================] - 26s 256ms/step - loss: 0.3443 - acc: 0.8455 - val_loss: 0.2640 - val_acc: 0.8820\n",
      "Epoch 34/100\n",
      "100/100 [==============================] - 26s 256ms/step - loss: 0.3345 - acc: 0.8560 - val_loss: 0.2636 - val_acc: 0.8850\n",
      "Epoch 35/100\n",
      "100/100 [==============================] - 26s 257ms/step - loss: 0.3375 - acc: 0.8515 - val_loss: 0.2649 - val_acc: 0.8800\n",
      "Epoch 36/100\n",
      "100/100 [==============================] - 26s 257ms/step - loss: 0.3219 - acc: 0.8545 - val_loss: 0.2643 - val_acc: 0.8860\n",
      "Epoch 37/100\n",
      "100/100 [==============================] - 26s 256ms/step - loss: 0.3560 - acc: 0.8395 - val_loss: 0.2629 - val_acc: 0.8910\n",
      "Epoch 38/100\n",
      "100/100 [==============================] - 26s 257ms/step - loss: 0.3535 - acc: 0.8425 - val_loss: 0.2634 - val_acc: 0.8820\n",
      "Epoch 39/100\n",
      "100/100 [==============================] - 26s 257ms/step - loss: 0.3355 - acc: 0.8505 - val_loss: 0.2650 - val_acc: 0.8890\n",
      "Epoch 40/100\n",
      "100/100 [==============================] - 26s 256ms/step - loss: 0.3295 - acc: 0.8485 - val_loss: 0.2623 - val_acc: 0.8830\n",
      "Epoch 41/100\n",
      "100/100 [==============================] - 26s 258ms/step - loss: 0.3312 - acc: 0.8535 - val_loss: 0.2669 - val_acc: 0.8910\n",
      "Epoch 42/100\n",
      "100/100 [==============================] - 26s 256ms/step - loss: 0.3331 - acc: 0.8430 - val_loss: 0.2759 - val_acc: 0.8820\n",
      "Epoch 43/100\n",
      "100/100 [==============================] - 26s 257ms/step - loss: 0.3414 - acc: 0.8375 - val_loss: 0.2638 - val_acc: 0.8820\n",
      "Epoch 44/100\n",
      "100/100 [==============================] - 26s 258ms/step - loss: 0.3354 - acc: 0.8465 - val_loss: 0.2735 - val_acc: 0.8800\n",
      "Epoch 45/100\n",
      "100/100 [==============================] - 26s 256ms/step - loss: 0.3381 - acc: 0.8475 - val_loss: 0.2668 - val_acc: 0.8830\n",
      "Epoch 46/100\n",
      "100/100 [==============================] - 26s 258ms/step - loss: 0.3269 - acc: 0.8550 - val_loss: 0.2622 - val_acc: 0.8780\n",
      "Epoch 47/100\n",
      "100/100 [==============================] - 26s 257ms/step - loss: 0.3419 - acc: 0.8485 - val_loss: 0.2644 - val_acc: 0.8760\n",
      "Epoch 48/100\n",
      "100/100 [==============================] - 26s 258ms/step - loss: 0.3103 - acc: 0.8645 - val_loss: 0.2646 - val_acc: 0.8890\n",
      "Epoch 49/100\n",
      "100/100 [==============================] - 26s 257ms/step - loss: 0.3219 - acc: 0.8585 - val_loss: 0.2617 - val_acc: 0.8900\n",
      "Epoch 50/100\n",
      "100/100 [==============================] - 26s 258ms/step - loss: 0.3433 - acc: 0.8495 - val_loss: 0.2604 - val_acc: 0.8900\n",
      "Epoch 51/100\n",
      "100/100 [==============================] - 26s 257ms/step - loss: 0.3296 - acc: 0.8550 - val_loss: 0.2650 - val_acc: 0.8900\n",
      "Epoch 52/100\n",
      "100/100 [==============================] - 26s 257ms/step - loss: 0.3437 - acc: 0.8440 - val_loss: 0.2571 - val_acc: 0.8930\n",
      "Epoch 53/100\n",
      "100/100 [==============================] - 26s 259ms/step - loss: 0.3209 - acc: 0.8625 - val_loss: 0.2568 - val_acc: 0.8920\n",
      "Epoch 54/100\n",
      "100/100 [==============================] - 26s 257ms/step - loss: 0.3261 - acc: 0.8545 - val_loss: 0.2633 - val_acc: 0.8890\n",
      "Epoch 55/100\n",
      "100/100 [==============================] - 26s 257ms/step - loss: 0.3212 - acc: 0.8590 - val_loss: 0.2643 - val_acc: 0.8890\n",
      "Epoch 56/100\n",
      "100/100 [==============================] - 26s 258ms/step - loss: 0.3190 - acc: 0.8680 - val_loss: 0.2680 - val_acc: 0.8880\n",
      "Epoch 57/100\n",
      "100/100 [==============================] - 26s 258ms/step - loss: 0.3472 - acc: 0.8490 - val_loss: 0.2610 - val_acc: 0.8920\n",
      "Epoch 58/100\n",
      "100/100 [==============================] - 26s 259ms/step - loss: 0.3192 - acc: 0.8640 - val_loss: 0.2553 - val_acc: 0.8890\n",
      "Epoch 59/100\n",
      "100/100 [==============================] - 26s 257ms/step - loss: 0.3220 - acc: 0.8605 - val_loss: 0.2757 - val_acc: 0.8870\n",
      "Epoch 60/100\n",
      "100/100 [==============================] - 26s 258ms/step - loss: 0.3160 - acc: 0.8585 - val_loss: 0.2597 - val_acc: 0.8910\n"
     ]
    },
    {
     "name": "stdout",
     "output_type": "stream",
     "text": [
      "Epoch 61/100\n",
      "100/100 [==============================] - 26s 258ms/step - loss: 0.3215 - acc: 0.8585 - val_loss: 0.2555 - val_acc: 0.8840\n",
      "Epoch 62/100\n",
      "100/100 [==============================] - 26s 258ms/step - loss: 0.3217 - acc: 0.8600 - val_loss: 0.2572 - val_acc: 0.8890\n",
      "Epoch 63/100\n",
      "100/100 [==============================] - 26s 258ms/step - loss: 0.3293 - acc: 0.8655 - val_loss: 0.2621 - val_acc: 0.8870\n",
      "Epoch 64/100\n",
      "100/100 [==============================] - 26s 258ms/step - loss: 0.3171 - acc: 0.8600 - val_loss: 0.2554 - val_acc: 0.8870\n",
      "Epoch 65/100\n",
      "100/100 [==============================] - 26s 258ms/step - loss: 0.3374 - acc: 0.8505 - val_loss: 0.2569 - val_acc: 0.8910\n",
      "Epoch 66/100\n",
      "100/100 [==============================] - 26s 256ms/step - loss: 0.3203 - acc: 0.8630 - val_loss: 0.2586 - val_acc: 0.8910\n",
      "Epoch 67/100\n",
      "100/100 [==============================] - 26s 257ms/step - loss: 0.3190 - acc: 0.8555 - val_loss: 0.2533 - val_acc: 0.8840\n",
      "Epoch 68/100\n",
      "100/100 [==============================] - 26s 257ms/step - loss: 0.3350 - acc: 0.8480 - val_loss: 0.2745 - val_acc: 0.8880\n",
      "Epoch 69/100\n",
      "100/100 [==============================] - 26s 256ms/step - loss: 0.3125 - acc: 0.8615 - val_loss: 0.2597 - val_acc: 0.8900\n",
      "Epoch 70/100\n",
      "100/100 [==============================] - 26s 259ms/step - loss: 0.3268 - acc: 0.8530 - val_loss: 0.2519 - val_acc: 0.8900\n",
      "Epoch 71/100\n",
      "100/100 [==============================] - 26s 257ms/step - loss: 0.3353 - acc: 0.8495 - val_loss: 0.2502 - val_acc: 0.8870\n",
      "Epoch 72/100\n",
      "100/100 [==============================] - 26s 259ms/step - loss: 0.3089 - acc: 0.8665 - val_loss: 0.2528 - val_acc: 0.8860\n",
      "Epoch 73/100\n",
      "100/100 [==============================] - 26s 259ms/step - loss: 0.3075 - acc: 0.8715 - val_loss: 0.2708 - val_acc: 0.8910\n",
      "Epoch 74/100\n",
      "100/100 [==============================] - 26s 259ms/step - loss: 0.3311 - acc: 0.8535 - val_loss: 0.2597 - val_acc: 0.8900\n",
      "Epoch 75/100\n",
      "100/100 [==============================] - 26s 259ms/step - loss: 0.3396 - acc: 0.8515 - val_loss: 0.2555 - val_acc: 0.8930\n",
      "Epoch 76/100\n",
      "100/100 [==============================] - 26s 259ms/step - loss: 0.3246 - acc: 0.8555 - val_loss: 0.2546 - val_acc: 0.8910\n",
      "Epoch 77/100\n",
      "100/100 [==============================] - 26s 259ms/step - loss: 0.3063 - acc: 0.8740 - val_loss: 0.2528 - val_acc: 0.8930\n",
      "Epoch 78/100\n",
      "100/100 [==============================] - 26s 259ms/step - loss: 0.2980 - acc: 0.8640 - val_loss: 0.2549 - val_acc: 0.8920\n",
      "Epoch 79/100\n",
      "100/100 [==============================] - 26s 259ms/step - loss: 0.3236 - acc: 0.8570 - val_loss: 0.2550 - val_acc: 0.8960\n",
      "Epoch 80/100\n",
      "100/100 [==============================] - 26s 260ms/step - loss: 0.3034 - acc: 0.8645 - val_loss: 0.2578 - val_acc: 0.8910\n",
      "Epoch 81/100\n",
      "100/100 [==============================] - 26s 259ms/step - loss: 0.3012 - acc: 0.8685 - val_loss: 0.2558 - val_acc: 0.8930\n",
      "Epoch 82/100\n",
      "100/100 [==============================] - 26s 257ms/step - loss: 0.3100 - acc: 0.8620 - val_loss: 0.2552 - val_acc: 0.8950\n",
      "Epoch 83/100\n",
      "100/100 [==============================] - 26s 258ms/step - loss: 0.3106 - acc: 0.8620 - val_loss: 0.2557 - val_acc: 0.8910\n",
      "Epoch 84/100\n",
      "100/100 [==============================] - 26s 257ms/step - loss: 0.3006 - acc: 0.8585 - val_loss: 0.2546 - val_acc: 0.8940\n",
      "Epoch 85/100\n",
      "100/100 [==============================] - 26s 257ms/step - loss: 0.3164 - acc: 0.8630 - val_loss: 0.2734 - val_acc: 0.8890\n",
      "Epoch 86/100\n",
      "100/100 [==============================] - 26s 257ms/step - loss: 0.3205 - acc: 0.8560 - val_loss: 0.2601 - val_acc: 0.8910\n",
      "Epoch 87/100\n",
      "100/100 [==============================] - 26s 256ms/step - loss: 0.3194 - acc: 0.8580 - val_loss: 0.2554 - val_acc: 0.8900\n",
      "Epoch 88/100\n",
      "100/100 [==============================] - 26s 256ms/step - loss: 0.3236 - acc: 0.8515 - val_loss: 0.2551 - val_acc: 0.8870\n",
      "Epoch 89/100\n",
      "100/100 [==============================] - 26s 257ms/step - loss: 0.3051 - acc: 0.8650 - val_loss: 0.2537 - val_acc: 0.8930\n",
      "Epoch 90/100\n",
      "100/100 [==============================] - 26s 257ms/step - loss: 0.3070 - acc: 0.8705 - val_loss: 0.2543 - val_acc: 0.8900\n",
      "Epoch 91/100\n",
      "100/100 [==============================] - 26s 257ms/step - loss: 0.3128 - acc: 0.8655 - val_loss: 0.2765 - val_acc: 0.8950\n",
      "Epoch 92/100\n",
      "100/100 [==============================] - 26s 256ms/step - loss: 0.3102 - acc: 0.8620 - val_loss: 0.2594 - val_acc: 0.8940\n",
      "Epoch 93/100\n",
      "100/100 [==============================] - 26s 256ms/step - loss: 0.3085 - acc: 0.8575 - val_loss: 0.2633 - val_acc: 0.8920\n",
      "Epoch 94/100\n",
      "100/100 [==============================] - 26s 255ms/step - loss: 0.3106 - acc: 0.8655 - val_loss: 0.2572 - val_acc: 0.8890\n",
      "Epoch 95/100\n",
      "100/100 [==============================] - 25s 254ms/step - loss: 0.3129 - acc: 0.8620 - val_loss: 0.2523 - val_acc: 0.8940\n",
      "Epoch 96/100\n",
      "100/100 [==============================] - 25s 255ms/step - loss: 0.3223 - acc: 0.8585 - val_loss: 0.2530 - val_acc: 0.8960\n",
      "Epoch 97/100\n",
      "100/100 [==============================] - 26s 255ms/step - loss: 0.3362 - acc: 0.8595 - val_loss: 0.2619 - val_acc: 0.8960\n",
      "Epoch 98/100\n",
      "100/100 [==============================] - 25s 254ms/step - loss: 0.3202 - acc: 0.8655 - val_loss: 0.2521 - val_acc: 0.8890\n",
      "Epoch 99/100\n",
      "100/100 [==============================] - 26s 255ms/step - loss: 0.3023 - acc: 0.8675 - val_loss: 0.2541 - val_acc: 0.8950\n",
      "Epoch 100/100\n",
      "100/100 [==============================] - 25s 254ms/step - loss: 0.3071 - acc: 0.8730 - val_loss: 0.2501 - val_acc: 0.8950\n"
     ]
    }
   ],
   "source": [
    "\n",
    "from keras import optimizers\n",
    "# compiling the model\n",
    "model.compile(loss = 'binary_crossentropy',\n",
    "              optimizer = optimizers.RMSprop(lr = 2e-5),\n",
    "              metrics = ['acc'])\n",
    "\n",
    "history = model.fit_generator(\n",
    "    train_generator,\n",
    "    steps_per_epoch = 100,\n",
    "    epochs = 100,\n",
    "    validation_data = validation_generator,\n",
    "    validation_steps = 50)"
   ]
  },
  {
   "cell_type": "markdown",
   "metadata": {
    "_uuid": "a74d486ff30d4b7e5f86407b0b862b6ecc24da92"
   },
   "source": [
    "final val_acc after 10th epoch is 86.5% which is relatively better that un-pre-trainined model, but we can furthur improve accuracy by implementinf fine tuning- where we unfreeze the last conv layer of the pre trainined model and train the model along with the weights of the last layers.\n",
    "\n",
    " \n"
   ]
  },
  {
   "cell_type": "code",
   "execution_count": 13,
   "metadata": {
    "_uuid": "2116854f6b5a996937c86c93d7028aac148ed20f"
   },
   "outputs": [
    {
     "name": "stdout",
     "output_type": "stream",
     "text": [
      "_________________________________________________________________\n",
      "Layer (type)                 Output Shape              Param #   \n",
      "=================================================================\n",
      "input_1 (InputLayer)         (None, 150, 150, 3)       0         \n",
      "_________________________________________________________________\n",
      "block1_conv1 (Conv2D)        (None, 150, 150, 64)      1792      \n",
      "_________________________________________________________________\n",
      "block1_conv2 (Conv2D)        (None, 150, 150, 64)      36928     \n",
      "_________________________________________________________________\n",
      "block1_pool (MaxPooling2D)   (None, 75, 75, 64)        0         \n",
      "_________________________________________________________________\n",
      "block2_conv1 (Conv2D)        (None, 75, 75, 128)       73856     \n",
      "_________________________________________________________________\n",
      "block2_conv2 (Conv2D)        (None, 75, 75, 128)       147584    \n",
      "_________________________________________________________________\n",
      "block2_pool (MaxPooling2D)   (None, 37, 37, 128)       0         \n",
      "_________________________________________________________________\n",
      "block3_conv1 (Conv2D)        (None, 37, 37, 256)       295168    \n",
      "_________________________________________________________________\n",
      "block3_conv2 (Conv2D)        (None, 37, 37, 256)       590080    \n",
      "_________________________________________________________________\n",
      "block3_conv3 (Conv2D)        (None, 37, 37, 256)       590080    \n",
      "_________________________________________________________________\n",
      "block3_pool (MaxPooling2D)   (None, 18, 18, 256)       0         \n",
      "_________________________________________________________________\n",
      "block4_conv1 (Conv2D)        (None, 18, 18, 512)       1180160   \n",
      "_________________________________________________________________\n",
      "block4_conv2 (Conv2D)        (None, 18, 18, 512)       2359808   \n",
      "_________________________________________________________________\n",
      "block4_conv3 (Conv2D)        (None, 18, 18, 512)       2359808   \n",
      "_________________________________________________________________\n",
      "block4_pool (MaxPooling2D)   (None, 9, 9, 512)         0         \n",
      "_________________________________________________________________\n",
      "block5_conv1 (Conv2D)        (None, 9, 9, 512)         2359808   \n",
      "_________________________________________________________________\n",
      "block5_conv2 (Conv2D)        (None, 9, 9, 512)         2359808   \n",
      "_________________________________________________________________\n",
      "block5_conv3 (Conv2D)        (None, 9, 9, 512)         2359808   \n",
      "_________________________________________________________________\n",
      "block5_pool (MaxPooling2D)   (None, 4, 4, 512)         0         \n",
      "=================================================================\n",
      "Total params: 14,714,688\n",
      "Trainable params: 0\n",
      "Non-trainable params: 14,714,688\n",
      "_________________________________________________________________\n"
     ]
    }
   ],
   "source": [
    "# improving accuracy using fine tuning\n",
    "conv_base.summary()"
   ]
  },
  {
   "cell_type": "code",
   "execution_count": 14,
   "metadata": {
    "_uuid": "83a7bf8c332d35c7823c355ec124dfa70daf32cc",
    "scrolled": false
   },
   "outputs": [
    {
     "name": "stdout",
     "output_type": "stream",
     "text": [
      "Epoch 1/100\n",
      "100/100 [==============================] - 29s 293ms/step - loss: 0.3280 - acc: 0.8625 - val_loss: 0.2692 - val_acc: 0.8910\n",
      "Epoch 2/100\n",
      "100/100 [==============================] - 27s 266ms/step - loss: 0.2737 - acc: 0.8845 - val_loss: 0.2464 - val_acc: 0.9110\n",
      "Epoch 3/100\n",
      "100/100 [==============================] - 26s 264ms/step - loss: 0.2716 - acc: 0.8905 - val_loss: 0.2021 - val_acc: 0.9170\n",
      "Epoch 4/100\n",
      "100/100 [==============================] - 27s 266ms/step - loss: 0.2512 - acc: 0.8880 - val_loss: 0.2540 - val_acc: 0.9130\n",
      "Epoch 5/100\n",
      "100/100 [==============================] - 27s 266ms/step - loss: 0.2360 - acc: 0.9035 - val_loss: 0.2027 - val_acc: 0.9300\n",
      "Epoch 6/100\n",
      "100/100 [==============================] - 27s 265ms/step - loss: 0.2361 - acc: 0.9060 - val_loss: 0.2153 - val_acc: 0.9270\n",
      "Epoch 7/100\n",
      "100/100 [==============================] - 26s 264ms/step - loss: 0.2185 - acc: 0.9100 - val_loss: 0.2643 - val_acc: 0.9200\n",
      "Epoch 8/100\n",
      "100/100 [==============================] - 26s 263ms/step - loss: 0.2129 - acc: 0.9145 - val_loss: 0.2143 - val_acc: 0.9220\n",
      "Epoch 9/100\n",
      "100/100 [==============================] - 26s 263ms/step - loss: 0.1985 - acc: 0.9175 - val_loss: 0.2371 - val_acc: 0.9280\n",
      "Epoch 10/100\n",
      "100/100 [==============================] - 26s 265ms/step - loss: 0.1969 - acc: 0.9240 - val_loss: 0.2196 - val_acc: 0.9290\n",
      "Epoch 11/100\n",
      "100/100 [==============================] - 26s 264ms/step - loss: 0.1678 - acc: 0.9275 - val_loss: 0.2481 - val_acc: 0.9270\n",
      "Epoch 12/100\n",
      "100/100 [==============================] - 26s 264ms/step - loss: 0.1747 - acc: 0.9345 - val_loss: 0.1948 - val_acc: 0.9430\n",
      "Epoch 13/100\n",
      "100/100 [==============================] - 26s 265ms/step - loss: 0.1535 - acc: 0.9310 - val_loss: 0.2317 - val_acc: 0.9390\n",
      "Epoch 14/100\n",
      "100/100 [==============================] - 27s 266ms/step - loss: 0.1631 - acc: 0.9365 - val_loss: 0.2127 - val_acc: 0.9400\n",
      "Epoch 15/100\n",
      "100/100 [==============================] - 26s 265ms/step - loss: 0.1551 - acc: 0.9380 - val_loss: 0.2379 - val_acc: 0.9280\n",
      "Epoch 16/100\n",
      "100/100 [==============================] - 26s 264ms/step - loss: 0.1546 - acc: 0.9360 - val_loss: 0.2112 - val_acc: 0.9400\n",
      "Epoch 17/100\n",
      "100/100 [==============================] - 26s 264ms/step - loss: 0.1667 - acc: 0.9395 - val_loss: 0.2727 - val_acc: 0.9220\n",
      "Epoch 18/100\n",
      "100/100 [==============================] - 26s 263ms/step - loss: 0.1229 - acc: 0.9570 - val_loss: 0.2064 - val_acc: 0.9470\n",
      "Epoch 19/100\n",
      "100/100 [==============================] - 26s 264ms/step - loss: 0.1286 - acc: 0.9525 - val_loss: 0.2861 - val_acc: 0.9260\n",
      "Epoch 20/100\n",
      "100/100 [==============================] - 27s 265ms/step - loss: 0.1415 - acc: 0.9445 - val_loss: 0.1972 - val_acc: 0.9430\n",
      "Epoch 21/100\n",
      "100/100 [==============================] - 26s 264ms/step - loss: 0.1299 - acc: 0.9440 - val_loss: 0.2440 - val_acc: 0.9430\n",
      "Epoch 22/100\n",
      "100/100 [==============================] - 27s 265ms/step - loss: 0.1341 - acc: 0.9455 - val_loss: 0.2223 - val_acc: 0.9430\n",
      "Epoch 23/100\n",
      "100/100 [==============================] - 26s 263ms/step - loss: 0.1307 - acc: 0.9480 - val_loss: 0.2960 - val_acc: 0.9340\n",
      "Epoch 24/100\n",
      "100/100 [==============================] - 26s 264ms/step - loss: 0.0984 - acc: 0.9600 - val_loss: 0.2753 - val_acc: 0.9300\n",
      "Epoch 25/100\n",
      "100/100 [==============================] - 26s 265ms/step - loss: 0.1011 - acc: 0.9590 - val_loss: 0.2791 - val_acc: 0.9330\n",
      "Epoch 26/100\n",
      "100/100 [==============================] - 27s 267ms/step - loss: 0.1044 - acc: 0.9585 - val_loss: 0.2087 - val_acc: 0.9490\n",
      "Epoch 27/100\n",
      "100/100 [==============================] - 26s 263ms/step - loss: 0.1015 - acc: 0.9560 - val_loss: 0.2569 - val_acc: 0.9370\n",
      "Epoch 28/100\n",
      "100/100 [==============================] - 27s 265ms/step - loss: 0.0986 - acc: 0.9575 - val_loss: 0.2810 - val_acc: 0.9350\n",
      "Epoch 29/100\n",
      "100/100 [==============================] - 26s 264ms/step - loss: 0.0926 - acc: 0.9650 - val_loss: 0.3207 - val_acc: 0.9310\n",
      "Epoch 30/100\n",
      "100/100 [==============================] - 26s 263ms/step - loss: 0.1008 - acc: 0.9625 - val_loss: 0.2399 - val_acc: 0.9480\n",
      "Epoch 31/100\n",
      "100/100 [==============================] - 26s 263ms/step - loss: 0.0867 - acc: 0.9695 - val_loss: 0.2930 - val_acc: 0.9440\n",
      "Epoch 32/100\n",
      "100/100 [==============================] - 26s 263ms/step - loss: 0.0818 - acc: 0.9690 - val_loss: 0.3578 - val_acc: 0.9270\n",
      "Epoch 33/100\n",
      "100/100 [==============================] - 26s 264ms/step - loss: 0.0830 - acc: 0.9705 - val_loss: 0.2747 - val_acc: 0.9360\n",
      "Epoch 34/100\n",
      "100/100 [==============================] - 26s 264ms/step - loss: 0.0756 - acc: 0.9720 - val_loss: 0.2565 - val_acc: 0.9440\n",
      "Epoch 35/100\n",
      "100/100 [==============================] - 26s 264ms/step - loss: 0.0783 - acc: 0.9700 - val_loss: 0.2627 - val_acc: 0.9430\n",
      "Epoch 36/100\n",
      "100/100 [==============================] - 26s 264ms/step - loss: 0.0612 - acc: 0.9755 - val_loss: 0.4016 - val_acc: 0.9240\n",
      "Epoch 37/100\n",
      "100/100 [==============================] - 26s 263ms/step - loss: 0.0684 - acc: 0.9730 - val_loss: 0.2282 - val_acc: 0.9490\n",
      "Epoch 38/100\n",
      "100/100 [==============================] - 27s 265ms/step - loss: 0.0752 - acc: 0.9700 - val_loss: 0.2838 - val_acc: 0.9470\n",
      "Epoch 39/100\n",
      "100/100 [==============================] - 26s 264ms/step - loss: 0.0778 - acc: 0.9690 - val_loss: 0.2749 - val_acc: 0.9430\n",
      "Epoch 40/100\n",
      "100/100 [==============================] - 26s 264ms/step - loss: 0.0755 - acc: 0.9725 - val_loss: 0.2548 - val_acc: 0.9480\n",
      "Epoch 41/100\n",
      "100/100 [==============================] - 26s 262ms/step - loss: 0.0857 - acc: 0.9685 - val_loss: 0.2170 - val_acc: 0.9480\n",
      "Epoch 42/100\n",
      "100/100 [==============================] - 26s 265ms/step - loss: 0.0734 - acc: 0.9720 - val_loss: 0.3289 - val_acc: 0.9440\n",
      "Epoch 43/100\n",
      "100/100 [==============================] - 26s 264ms/step - loss: 0.0683 - acc: 0.9735 - val_loss: 0.2424 - val_acc: 0.9530\n",
      "Epoch 44/100\n",
      "100/100 [==============================] - 26s 264ms/step - loss: 0.0564 - acc: 0.9790 - val_loss: 0.3183 - val_acc: 0.9430\n",
      "Epoch 45/100\n",
      "100/100 [==============================] - 26s 265ms/step - loss: 0.0569 - acc: 0.9785 - val_loss: 0.2470 - val_acc: 0.9500\n",
      "Epoch 46/100\n",
      "100/100 [==============================] - 26s 263ms/step - loss: 0.0836 - acc: 0.9680 - val_loss: 0.2836 - val_acc: 0.9500\n",
      "Epoch 47/100\n",
      "100/100 [==============================] - 26s 263ms/step - loss: 0.0521 - acc: 0.9795 - val_loss: 0.2924 - val_acc: 0.9440\n",
      "Epoch 48/100\n",
      "100/100 [==============================] - 26s 263ms/step - loss: 0.0440 - acc: 0.9835 - val_loss: 0.3683 - val_acc: 0.9460\n",
      "Epoch 49/100\n",
      "100/100 [==============================] - 27s 266ms/step - loss: 0.0569 - acc: 0.9790 - val_loss: 0.2591 - val_acc: 0.9540\n",
      "Epoch 50/100\n",
      "100/100 [==============================] - 26s 263ms/step - loss: 0.0547 - acc: 0.9780 - val_loss: 0.3083 - val_acc: 0.9420\n",
      "Epoch 51/100\n",
      "100/100 [==============================] - 27s 266ms/step - loss: 0.0558 - acc: 0.9770 - val_loss: 0.3107 - val_acc: 0.9350\n",
      "Epoch 52/100\n",
      "100/100 [==============================] - 26s 263ms/step - loss: 0.0576 - acc: 0.9800 - val_loss: 0.3194 - val_acc: 0.9350\n",
      "Epoch 53/100\n",
      "100/100 [==============================] - 26s 264ms/step - loss: 0.0443 - acc: 0.9835 - val_loss: 0.4489 - val_acc: 0.9260\n",
      "Epoch 54/100\n",
      "100/100 [==============================] - 26s 264ms/step - loss: 0.0589 - acc: 0.9760 - val_loss: 0.3428 - val_acc: 0.9420\n",
      "Epoch 55/100\n",
      "100/100 [==============================] - 26s 263ms/step - loss: 0.0537 - acc: 0.9790 - val_loss: 0.2025 - val_acc: 0.9590\n",
      "Epoch 56/100\n",
      "100/100 [==============================] - 26s 264ms/step - loss: 0.0439 - acc: 0.9835 - val_loss: 0.4009 - val_acc: 0.9310\n",
      "Epoch 57/100\n",
      "100/100 [==============================] - 26s 264ms/step - loss: 0.0364 - acc: 0.9875 - val_loss: 0.3878 - val_acc: 0.9390\n",
      "Epoch 58/100\n",
      "100/100 [==============================] - 26s 265ms/step - loss: 0.0541 - acc: 0.9800 - val_loss: 0.2154 - val_acc: 0.9580\n",
      "Epoch 59/100\n",
      "100/100 [==============================] - 26s 264ms/step - loss: 0.0576 - acc: 0.9825 - val_loss: 0.3537 - val_acc: 0.9440\n",
      "Epoch 60/100\n",
      "100/100 [==============================] - 26s 265ms/step - loss: 0.0483 - acc: 0.9845 - val_loss: 0.4256 - val_acc: 0.9240\n"
     ]
    },
    {
     "name": "stdout",
     "output_type": "stream",
     "text": [
      "Epoch 61/100\n",
      "100/100 [==============================] - 27s 265ms/step - loss: 0.0423 - acc: 0.9855 - val_loss: 0.3852 - val_acc: 0.9430\n",
      "Epoch 62/100\n",
      "100/100 [==============================] - 26s 260ms/step - loss: 0.0543 - acc: 0.9810 - val_loss: 0.2546 - val_acc: 0.9540\n",
      "Epoch 63/100\n",
      "100/100 [==============================] - 26s 260ms/step - loss: 0.0402 - acc: 0.9860 - val_loss: 0.3230 - val_acc: 0.9480\n",
      "Epoch 64/100\n",
      "100/100 [==============================] - 26s 260ms/step - loss: 0.0535 - acc: 0.9810 - val_loss: 0.3593 - val_acc: 0.9440\n",
      "Epoch 65/100\n",
      "100/100 [==============================] - 26s 260ms/step - loss: 0.0497 - acc: 0.9835 - val_loss: 0.3168 - val_acc: 0.9490\n",
      "Epoch 66/100\n",
      "100/100 [==============================] - 26s 260ms/step - loss: 0.0436 - acc: 0.9865 - val_loss: 0.4537 - val_acc: 0.9260\n",
      "Epoch 67/100\n",
      "100/100 [==============================] - 26s 260ms/step - loss: 0.0475 - acc: 0.9850 - val_loss: 0.3553 - val_acc: 0.9370\n",
      "Epoch 68/100\n",
      "100/100 [==============================] - 26s 259ms/step - loss: 0.0396 - acc: 0.9855 - val_loss: 0.2993 - val_acc: 0.9530\n",
      "Epoch 69/100\n",
      "100/100 [==============================] - 26s 257ms/step - loss: 0.0376 - acc: 0.9875 - val_loss: 0.2694 - val_acc: 0.9540\n",
      "Epoch 70/100\n",
      "100/100 [==============================] - 26s 258ms/step - loss: 0.0490 - acc: 0.9855 - val_loss: 0.3483 - val_acc: 0.9490\n",
      "Epoch 71/100\n",
      "100/100 [==============================] - 26s 258ms/step - loss: 0.0456 - acc: 0.9820 - val_loss: 0.2718 - val_acc: 0.9470\n",
      "Epoch 72/100\n",
      "100/100 [==============================] - 26s 258ms/step - loss: 0.0385 - acc: 0.9850 - val_loss: 0.2804 - val_acc: 0.9540\n",
      "Epoch 73/100\n",
      "100/100 [==============================] - 26s 263ms/step - loss: 0.0345 - acc: 0.9855 - val_loss: 0.2496 - val_acc: 0.9550\n",
      "Epoch 74/100\n",
      "100/100 [==============================] - 26s 259ms/step - loss: 0.0480 - acc: 0.9865 - val_loss: 0.4116 - val_acc: 0.9420\n",
      "Epoch 75/100\n",
      "100/100 [==============================] - 26s 258ms/step - loss: 0.0427 - acc: 0.9850 - val_loss: 0.2904 - val_acc: 0.9480\n",
      "Epoch 76/100\n",
      "100/100 [==============================] - 26s 259ms/step - loss: 0.0365 - acc: 0.9880 - val_loss: 0.3433 - val_acc: 0.9500\n",
      "Epoch 77/100\n",
      "100/100 [==============================] - 26s 259ms/step - loss: 0.0381 - acc: 0.9875 - val_loss: 0.2554 - val_acc: 0.9590\n",
      "Epoch 78/100\n",
      "100/100 [==============================] - 26s 259ms/step - loss: 0.0261 - acc: 0.9920 - val_loss: 0.3713 - val_acc: 0.9450\n",
      "Epoch 79/100\n",
      "100/100 [==============================] - 26s 258ms/step - loss: 0.0426 - acc: 0.9865 - val_loss: 0.4925 - val_acc: 0.9220\n",
      "Epoch 80/100\n",
      "100/100 [==============================] - 26s 258ms/step - loss: 0.0329 - acc: 0.9900 - val_loss: 0.3574 - val_acc: 0.9540\n",
      "Epoch 81/100\n",
      "100/100 [==============================] - 26s 258ms/step - loss: 0.0375 - acc: 0.9875 - val_loss: 0.2907 - val_acc: 0.9480\n",
      "Epoch 82/100\n",
      "100/100 [==============================] - 26s 258ms/step - loss: 0.0336 - acc: 0.9885 - val_loss: 0.3878 - val_acc: 0.9420\n",
      "Epoch 83/100\n",
      "100/100 [==============================] - 26s 258ms/step - loss: 0.0349 - acc: 0.9860 - val_loss: 0.5860 - val_acc: 0.9170\n",
      "Epoch 84/100\n",
      "100/100 [==============================] - 26s 257ms/step - loss: 0.0459 - acc: 0.9850 - val_loss: 0.3323 - val_acc: 0.9470\n",
      "Epoch 85/100\n",
      "100/100 [==============================] - 26s 264ms/step - loss: 0.0301 - acc: 0.9885 - val_loss: 0.3467 - val_acc: 0.9500\n",
      "Epoch 86/100\n",
      "100/100 [==============================] - 26s 260ms/step - loss: 0.0439 - acc: 0.9860 - val_loss: 0.2977 - val_acc: 0.9540\n",
      "Epoch 87/100\n",
      "100/100 [==============================] - 26s 258ms/step - loss: 0.0328 - acc: 0.9905 - val_loss: 0.3310 - val_acc: 0.9490\n",
      "Epoch 88/100\n",
      "100/100 [==============================] - 26s 257ms/step - loss: 0.0277 - acc: 0.9905 - val_loss: 0.5302 - val_acc: 0.9210\n",
      "Epoch 89/100\n",
      "100/100 [==============================] - 26s 257ms/step - loss: 0.0362 - acc: 0.9895 - val_loss: 0.3310 - val_acc: 0.9440\n",
      "Epoch 90/100\n",
      "100/100 [==============================] - 26s 258ms/step - loss: 0.0362 - acc: 0.9870 - val_loss: 0.3870 - val_acc: 0.9440\n",
      "Epoch 91/100\n",
      "100/100 [==============================] - 26s 257ms/step - loss: 0.0326 - acc: 0.9885 - val_loss: 0.3532 - val_acc: 0.9500\n",
      "Epoch 92/100\n",
      "100/100 [==============================] - 26s 258ms/step - loss: 0.0171 - acc: 0.9925 - val_loss: 0.3803 - val_acc: 0.9450\n",
      "Epoch 93/100\n",
      "100/100 [==============================] - 26s 258ms/step - loss: 0.0325 - acc: 0.9865 - val_loss: 0.3740 - val_acc: 0.9460\n",
      "Epoch 94/100\n",
      "100/100 [==============================] - 26s 257ms/step - loss: 0.0262 - acc: 0.9905 - val_loss: 0.4034 - val_acc: 0.9440\n",
      "Epoch 95/100\n",
      "100/100 [==============================] - 26s 258ms/step - loss: 0.0356 - acc: 0.9890 - val_loss: 0.3521 - val_acc: 0.9440\n",
      "Epoch 96/100\n",
      "100/100 [==============================] - 26s 257ms/step - loss: 0.0223 - acc: 0.9915 - val_loss: 0.3992 - val_acc: 0.9410\n",
      "Epoch 97/100\n",
      "100/100 [==============================] - 26s 262ms/step - loss: 0.0196 - acc: 0.9920 - val_loss: 0.3691 - val_acc: 0.9410\n",
      "Epoch 98/100\n",
      "100/100 [==============================] - 26s 258ms/step - loss: 0.0311 - acc: 0.9915 - val_loss: 0.4057 - val_acc: 0.9450\n",
      "Epoch 99/100\n",
      "100/100 [==============================] - 26s 257ms/step - loss: 0.0310 - acc: 0.9880 - val_loss: 0.3894 - val_acc: 0.9460\n",
      "Epoch 100/100\n",
      "100/100 [==============================] - 26s 257ms/step - loss: 0.0286 - acc: 0.9905 - val_loss: 0.4709 - val_acc: 0.9380\n"
     ]
    }
   ],
   "source": [
    "# we will train last three convolutional layers \"block5_conv1,2,3\"\n",
    "conv_base.trainable = True\n",
    "\n",
    "set_trainable = False\n",
    "for layer in conv_base.layers:\n",
    "  if layer.name == 'block5_conv1':\n",
    "    set_trainable = True\n",
    "  if set_trainable:\n",
    "    layer.trainable = True\n",
    "  else:\n",
    "    layer.trainable = False\n",
    "\n",
    "    \n",
    "model.compile(loss = 'binary_crossentropy',\n",
    "             optimizer = optimizers.RMSprop(lr = 1e-5),\n",
    "             metrics = ['acc'])\n",
    "\n",
    "history = model.fit_generator(\n",
    "    train_generator,\n",
    "    steps_per_epoch = 100,\n",
    "    epochs = 100,\n",
    "    validation_data = validation_generator,\n",
    "    validation_steps = 50)"
   ]
  },
  {
   "cell_type": "code",
   "execution_count": 15,
   "metadata": {
    "_uuid": "191e3afb03a9266e92674fa69e7c7a199c9ea5bd"
   },
   "outputs": [
    {
     "name": "stdout",
     "output_type": "stream",
     "text": [
      "this is the number of trainable weights after freezing the conv_base 10\n"
     ]
    }
   ],
   "source": [
    "print ('this is the number of trainable weights after freezing the conv_base',len(model.trainable_weights))"
   ]
  },
  {
   "cell_type": "code",
   "execution_count": 16,
   "metadata": {
    "_uuid": "4458daa4624df78781b504c723120e11a4c5d0de"
   },
   "outputs": [
    {
     "data": {
      "image/png": "[encoded data removed]",
      "text/plain": [
       "<Figure size 432x288 with 1 Axes>"
      ]
     },
     "metadata": {
      "needs_background": "light"
     },
     "output_type": "display_data"
    },
    {
     "data": {
      "image/png": "[encoded data removed]",
      "text/plain": [
       "<Figure size 432x288 with 1 Axes>"
      ]
     },
     "metadata": {
      "needs_background": "light"
     },
     "output_type": "display_data"
    }
   ],
   "source": [
    "# plotting the results\n",
    "\n",
    "%matplotlib inline\n",
    "import matplotlib.pyplot as plt\n",
    "\n",
    "acc = history.history['acc']\n",
    "val_acc = history.history['val_acc']\n",
    "loss = history.history['loss']\n",
    "val_loss = history.history['val_loss']\n",
    "\n",
    "epochs = range(1,len(acc)+1)\n",
    "\n",
    "plt.plot(epochs , acc , 'bo',label = 'training acc')\n",
    "plt.plot(epochs, val_acc,'b',label ='validation acc')\n",
    "plt.title('Training and validation accuracy')\n",
    "plt.legend()\n",
    "\n",
    "plt.figure()\n",
    "\n",
    "plt.plot(epochs , loss , 'bo',label = 'training loss')\n",
    "plt.plot(epochs , val_loss , 'b',label = 'validation loss')\n",
    "plt.title ('training and validation loss')\n",
    "plt.legend()\n",
    "\n",
    "plt.show()"
   ]
  },
  {
   "cell_type": "code",
   "execution_count": null,
   "metadata": {
    "_uuid": "c5a503e45961c5fbab79b332eb42769a4dce827c"
   },
   "outputs": [],
   "source": []
  },
  {
   "cell_type": "code",
   "execution_count": null,
   "metadata": {
    "_uuid": "a9e3c7f89ed6540c53213e3d5ffe1bdcd95781b1"
   },
   "outputs": [],
   "source": []
  }
 ],
 "metadata": {
  "kernelspec": {
   "display_name": "Python 3",
   "language": "python",
   "name": "python3"
  },
  "language_info": {
   "codemirror_mode": {
    "name": "ipython",
    "version": 3
   },
   "file_extension": ".py",
   "mimetype": "text/x-python",
   "name": "python",
   "nbconvert_exporter": "python",
   "pygments_lexer": "ipython3",
   "version": "3.6.1"
  }
 },
 "nbformat": 4,
 "nbformat_minor": 1
}
